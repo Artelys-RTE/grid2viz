{
 "cells": [
  {
   "cell_type": "markdown",
   "metadata": {},
   "source": [
    "# Grid2Viz demo using Jupyter Dash\n",
    "The `jupyter-dash` package makes it easy to develop Plotly Dash apps from the Jupyter Notebook and JupyterLab.\n",
    "\n",
    "Just replace the standard `dash.Dash` class with the `jupyter_dash.JupyterDash` subclass."
   ]
  },
  {
   "cell_type": "markdown",
   "metadata": {},
   "source": [
    "## Configuration"
   ]
  },
  {
   "cell_type": "code",
   "execution_count": 1,
   "metadata": {},
   "outputs": [],
   "source": [
    "!pwd"
   ]
  },
  {
   "cell_type": "code",
   "execution_count": 2,
   "metadata": {},
   "outputs": [],
   "source": [
    "import os\n",
    "\n",
    "pkg_root_dir = !pwd\n",
    "pkg_root_dir=pkg_root_dir[0]\n",
    "\n",
    "os.environ[\"GRID2VIZ_ROOT\"] = pkg_root_dir\n",
    "\n",
    "config_path = os.path.join(pkg_root_dir, \"config.ini\")"
   ]
  },
  {
   "cell_type": "code",
   "execution_count": 3,
   "metadata": {},
   "outputs": [],
   "source": [
    "CONFIG_FILE_CONTENT = \"\"\"\n",
    "# This file have been automatically generated, please do not modify it. \n",
    "# You can remove it once done with the application.\n",
    "[DEFAULT]\n",
    "agents_dir={agents_dir}\n",
    "env_dir={env_dir}\n",
    "n_cores={n_cores}\n",
    "# This file will be re generated to each call of \"python -m grid2viz.main\"\n",
    "\"\"\"\n",
    "\n",
    "agents_dir = os.path.join(pkg_root_dir,\"grid2viz\", \"data\", \"agents\")\n",
    "env_dir = os.path.join(pkg_root_dir,\"grid2viz\", \"data\", \"env_conf\")\n",
    "\n",
    "\n",
    "n_cores = 2#args.n_cores\n",
    "\n",
    "with open(config_path, \"w\") as f:\n",
    "    f.write(CONFIG_FILE_CONTENT.format(agents_dir=agents_dir,\n",
    "                                       env_dir=env_dir,\n",
    "                                       n_cores=n_cores))"
   ]
  },
  {
   "cell_type": "markdown",
   "metadata": {},
   "source": [
    "## Launching"
   ]
  },
  {
   "cell_type": "code",
   "execution_count": 4,
   "metadata": {},
   "outputs": [],
   "source": [
    "#!pip install jupyter-dash"
   ]
  },
  {
   "cell_type": "code",
   "execution_count": 5,
   "metadata": {},
   "outputs": [
    {
     "name": "stderr",
     "output_type": "stream",
     "text": [
      "/Users/antoinemarot/dev/grid2viz/venv_grid2viz_new/lib/python3.6/site-packages/grid2op/Backend/PandaPowerBackend.py:39: UserWarning:\n",
      "\n",
      "Numba cannot be loaded. You will gain possibly massive speed if installing it by \n",
      "\t/Users/antoinemarot/dev/grid2viz/venv_grid2viz_new/bin/python -m pip install numba\n",
      "\n",
      "\n"
     ]
    },
    {
     "name": "stdout",
     "output_type": "stream",
     "text": [
      "the config file used is located at: /Users/antoinemarot/dev/grid2viz/config.ini\n",
      "Agents data used is located at: /Users/antoinemarot/dev/grid2viz/grid2viz/data/agents\n"
     ]
    }
   ],
   "source": [
    "\n",
    "from grid2viz.app_jupyter import app as app_jup\n",
    "app_jup.run_server(port=8052,mode=\"inline\")#mode=\"inline\",debug=True)"
   ]
  },
  {
   "cell_type": "code",
   "execution_count": 8,
   "metadata": {},
   "outputs": [
    {
     "name": "stdout",
     "output_type": "stream",
     "text": [
      "run flask\n",
      "runingn flask\n",
      "print cli\n",
      "production\n",
      "False\n",
      "grid2viz.app_jupyter\n"
     ]
    },
    {
     "data": {
      "text/html": [
       "\n",
       "        <iframe\n",
       "            width=\"100%\"\n",
       "            height=\"650\"\n",
       "            src=\"http://127.0.0.1:8052/\"\n",
       "            frameborder=\"0\"\n",
       "            allowfullscreen\n",
       "        ></iframe>\n",
       "        "
      ],
      "text/plain": [
       "<IPython.lib.display.IFrame at 0x11e975cc0>"
      ]
     },
     "metadata": {},
     "output_type": "display_data"
    }
   ],
   "source": [
    "app_jup.run_server(port=8052,mode=\"inline\")#mode=\"inline\",debug=True)"
   ]
  },
  {
   "cell_type": "markdown",
   "metadata": {},
   "source": [
    "When running in JupyterLab, with the `jupyterlab-dash` extension, setting `mode=\"jupyterlab\"` will open the app in a tab in JupyterLab.\n",
    "\n",
    "```python\n",
    "app.run_server(mode=\"jupyterlab\")\n",
    "```"
   ]
  }
 ],
 "metadata": {
  "jupytext": {
   "formats": "ipynb,py:percent"
  },
  "kernelspec": {
   "display_name": "grid2viz_env",
   "language": "python",
   "name": "grid2viz_env"
  },
  "language_info": {
   "codemirror_mode": {
    "name": "ipython",
    "version": 3
   },
   "file_extension": ".py",
   "mimetype": "text/x-python",
   "name": "python",
   "nbconvert_exporter": "python",
   "pygments_lexer": "ipython3",
   "version": "3.6.10"
  }
 },
 "nbformat": 4,
 "nbformat_minor": 4
}
